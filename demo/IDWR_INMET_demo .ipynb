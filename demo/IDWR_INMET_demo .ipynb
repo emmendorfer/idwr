{
 "cells": [
  {
   "cell_type": "code",
   "execution_count": 94,
   "metadata": {},
   "outputs": [],
   "source": [
    "import matplotlib.pyplot as plt\n",
    "import pandas as pd\n",
    "import numpy as np\n",
    "import seaborn as sns\n",
    "from idwr import idwr\n"
   ]
  },
  {
   "cell_type": "code",
   "execution_count": 147,
   "metadata": {},
   "outputs": [],
   "source": [
    "#read file \"amazon.csv\"\n",
    "\n",
    "arqle=pd.read_csv(\"datasets/amazon.csv\",names=None,header=None)\n",
    "vec=arqle.to_numpy();\n",
    "\n",
    "x=-1*vec[:,1]  # this \"-1\" inversion is for the \"amazon.csv\" to be correctly plotted using sns.heatmap\n",
    "y=vec[:,0]\n",
    "z=vec[:,2]"
   ]
  },
  {
   "cell_type": "code",
   "execution_count": 148,
   "metadata": {},
   "outputs": [
    {
     "name": "stdout",
     "output_type": "stream",
     "text": [
      "[-62.924 -63.145 -69.869 -60.628 -60.016 -61.288 -60.026 -67.061]\n"
     ]
    }
   ],
   "source": [
    "#visualize input points\n",
    "\n",
    "print(x)"
   ]
  },
  {
   "cell_type": "code",
   "execution_count": 149,
   "metadata": {},
   "outputs": [
    {
     "name": "stdout",
     "output_type": "stream",
     "text": [
      "[0.987 4.097 6.65  3.295 3.104 5.789 2.057 0.125]\n"
     ]
    }
   ],
   "source": [
    "print(y)"
   ]
  },
  {
   "cell_type": "code",
   "execution_count": 150,
   "metadata": {},
   "outputs": [
    {
     "name": "stdout",
     "output_type": "stream",
     "text": [
      "[ 500.6 2748.1 1018.6 2087.6 2751.1 2610.5  504.2   89.9]\n"
     ]
    }
   ],
   "source": [
    "print(z) # the maximal irradiation is 2751.1W/m^2"
   ]
  },
  {
   "cell_type": "code",
   "execution_count": 151,
   "metadata": {},
   "outputs": [],
   "source": [
    "#create regular output grid with 50x50 points\n",
    "\n",
    "npt=50\n",
    "dx=(max(x)-min(x))/npt\n",
    "dy=(max(y)-min(y))/npt\n",
    "xx = np.arange(min(x), max(x),dx)\n",
    "yy = np.arange(min(y), max(y), dy)\n",
    "xnew, ynew = np.meshgrid(xx, yy)\n",
    "xnew=xnew.reshape(npt*npt,1)[:,0]\n",
    "ynew=ynew.reshape(npt*npt,1)[:,0]"
   ]
  },
  {
   "cell_type": "code",
   "execution_count": 152,
   "metadata": {},
   "outputs": [],
   "source": [
    "# compute IDWR interpolation on the new points given in xx,yy\n",
    "\n",
    "znew=idwr(x,y,z,xnew,ynew)"
   ]
  },
  {
   "cell_type": "code",
   "execution_count": 153,
   "metadata": {},
   "outputs": [],
   "source": [
    "#convert flat output \"znew\" into a matrix\n",
    "\n",
    "znew_mat=znew.reshape(50,50)"
   ]
  },
  {
   "cell_type": "code",
   "execution_count": 160,
   "metadata": {},
   "outputs": [
    {
     "data": {
      "image/png": "[encoded data removed]",
      "text/plain": [
       "<Figure size 432x288 with 2 Axes>"
      ]
     },
     "metadata": {
      "needs_background": "light"
     },
     "output_type": "display_data"
    }
   ],
   "source": [
    "# visualize the result as a heatmap\n",
    "\n",
    "fig = plt.figure()\n",
    "ax = fig.add_subplot(111, aspect=0.67)\n",
    "sns.heatmap(znew_mat,xticklabels=False,yticklabels=False)\n",
    "for i in range(len(x)):\n",
    "    ax.scatter(round((x[i]-min(x))/dx),round((y[i]-min(y))/dy), marker='*', s=150, color='black') \n",
    "    \n",
    "for i in range(len(x)):\n",
    "    ax.scatter(round((x[i]-min(x))/dx),round((y[i]-min(y))/dy), marker='*', s=100, color='yellow')     \n",
    "    \n",
    "# input points are shown in yellow    \n",
    "# notice that irradiation values over 3000W/m^2 are predicted away from any input point"
   ]
  },
  {
   "cell_type": "code",
   "execution_count": null,
   "metadata": {},
   "outputs": [],
   "source": []
  }
 ],
 "metadata": {
  "kernelspec": {
   "display_name": "Python 3",
   "language": "python",
   "name": "python3"
  },
  "language_info": {
   "codemirror_mode": {
    "name": "ipython",
    "version": 3
   },
   "file_extension": ".py",
   "mimetype": "text/x-python",
   "name": "python",
   "nbconvert_exporter": "python",
   "pygments_lexer": "ipython3",
   "version": "3.8.3"
  }
 },
 "nbformat": 4,
 "nbformat_minor": 4
}
